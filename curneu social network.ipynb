{
 "cells": [
  {
   "cell_type": "code",
   "execution_count": null,
   "metadata": {},
   "outputs": [],
   "source": [
    "import pandas as pd\n",
    "import numpy as np\n",
    "import matplotlib as plt\n",
    "import seaborn as sns\n",
    "from sklearn.model_selection import train_test_split\n",
    "from sklearn.preprocessing import StandardScaler"
   ]
  },
  {
   "cell_type": "code",
   "execution_count": null,
   "metadata": {},
   "outputs": [],
   "source": [
    "data=pd.read_excel(\"C:\\\\Users\\\\adith\\\\Desktop\\\\SD03Q02\\\\Social_Network_Ads.xlsx\")"
   ]
  },
  {
   "cell_type": "code",
   "execution_count": null,
   "metadata": {},
   "outputs": [],
   "source": [
    "data.info()"
   ]
  },
  {
   "cell_type": "code",
   "execution_count": null,
   "metadata": {},
   "outputs": [],
   "source": [
    "sns.countplot(x='Gender ',hue='Purchased',data=data)"
   ]
  },
  {
   "cell_type": "markdown",
   "metadata": {},
   "source": [
    " From the above plot we can see that the number of females who buy the product are more than that of the males. So if the customer is a female, then she is more likely to buy the product. \n"
   ]
  },
  {
   "cell_type": "markdown",
   "metadata": {},
   "source": [
    "### Now let us analyse how the customer response varies with the age"
   ]
  },
  {
   "cell_type": "markdown",
   "metadata": {},
   "source": [
    "For that we should know the customer demographics and details about the mean age of our customers"
   ]
  },
  {
   "cell_type": "code",
   "execution_count": null,
   "metadata": {},
   "outputs": [],
   "source": [
    "sns.boxplot(x='Purchased',y='Age ',data=data)"
   ]
  },
  {
   "cell_type": "code",
   "execution_count": null,
   "metadata": {},
   "outputs": [],
   "source": [
    "data['Age '].describe()"
   ]
  },
  {
   "cell_type": "code",
   "execution_count": null,
   "metadata": {},
   "outputs": [],
   "source": [
    "sns.catplot(x='Purchased',y='Age ',data=data)"
   ]
  },
  {
   "cell_type": "markdown",
   "metadata": {},
   "source": [
    "From the above summary statistics about the age attribute, we can categorize the customers into three age categories : \n",
    "\n",
    "    --> less than 30 years as \"Young\" \n",
    "    --> 30 to 50 years as \"MIDDLE\"\n",
    "    --> Greater than 50 years as \"OLD\" \n",
    " We can now plot the count of customers in each category who have purchased our product. "
   ]
  },
  {
   "cell_type": "code",
   "execution_count": null,
   "metadata": {},
   "outputs": [],
   "source": [
    "def categorize(a):\n",
    "    if a<30:\n",
    "        return \"Young\"\n",
    "    elif a>=30 and a<=50:\n",
    "        return \"Middle\"\n",
    "    elif a>50:\n",
    "        return \"Old\""
   ]
  },
  {
   "cell_type": "code",
   "execution_count": null,
   "metadata": {},
   "outputs": [],
   "source": [
    "data['Age_category']=data['Age '].apply(lambda x: categorize(x))\n",
    "data['Age_category'].value_counts()"
   ]
  },
  {
   "cell_type": "code",
   "execution_count": null,
   "metadata": {},
   "outputs": [],
   "source": [
    "sns.countplot(x='Age_category',hue='Purchased',data=data)"
   ]
  },
  {
   "cell_type": "markdown",
   "metadata": {},
   "source": [
    "Looking at this plot we can easily see that customers who are greater that 30 years of age are more likely to buy the product. Also when we compare the middle and old age, the purchase percentage is higher in the old age category( >50 years). "
   ]
  },
  {
   "cell_type": "code",
   "execution_count": null,
   "metadata": {},
   "outputs": [],
   "source": [
    "data['EstimatedSalary '].describe()"
   ]
  },
  {
   "cell_type": "code",
   "execution_count": null,
   "metadata": {},
   "outputs": [],
   "source": [
    "sns.catplot(x='Purchased',y='EstimatedSalary ',data=data)"
   ]
  },
  {
   "cell_type": "code",
   "execution_count": null,
   "metadata": {},
   "outputs": [],
   "source": [
    "sns.boxplot(x='Purchased',y='EstimatedSalary ',data=data)"
   ]
  },
  {
   "cell_type": "markdown",
   "metadata": {},
   "source": [
    "From the above box plots we can see that 50% of the customers who purchased from the ads earn between 40000 to 100000.\n",
    "We can split the earnings into three groups so that we can get a better understanding about the salary range in which the purchases are high. "
   ]
  },
  {
   "cell_type": "code",
   "execution_count": null,
   "metadata": {},
   "outputs": [],
   "source": [
    "def cate_sal(a):\n",
    "    if a<45000:\n",
    "        return \" < 45000\"\n",
    "    elif a>=45000 and a<=70000:\n",
    "        return \" > 45000 and < 70000\"\n",
    "    elif a> 70000:\n",
    "        return \" > 70000\""
   ]
  },
  {
   "cell_type": "code",
   "execution_count": null,
   "metadata": {},
   "outputs": [],
   "source": [
    "data['Salary_category']=data['EstimatedSalary '].apply(lambda x: cate_sal(x))"
   ]
  },
  {
   "cell_type": "code",
   "execution_count": null,
   "metadata": {},
   "outputs": [],
   "source": [
    "data['Salary_category'].value_counts()"
   ]
  },
  {
   "cell_type": "code",
   "execution_count": null,
   "metadata": {},
   "outputs": [],
   "source": [
    "sns.countplot(x='Salary_category',hue='Purchased',data=data)"
   ]
  },
  {
   "cell_type": "markdown",
   "metadata": {},
   "source": [
    "This plot shows that the customers with salary greater than 70000 are more likely to buy through the ads. The purchase percentange of customers to whome the ads are shown is very high in the salary range >70000 than the customers with less salary.But it is a bit strange to see customers with salary greater than 45000 purchase less than customers with salry less than 45000. "
   ]
  },
  {
   "cell_type": "code",
   "execution_count": null,
   "metadata": {},
   "outputs": [],
   "source": [
    "\n",
    "data['Gender ']=data['Gender '].apply(lambda x: 0 if x==\"Female \" else 1)"
   ]
  },
  {
   "cell_type": "code",
   "execution_count": null,
   "metadata": {},
   "outputs": [],
   "source": [
    "data.head()"
   ]
  },
  {
   "cell_type": "code",
   "execution_count": null,
   "metadata": {},
   "outputs": [],
   "source": [
    "data.drop(['User ID '],axis=1,inplace=True)"
   ]
  },
  {
   "cell_type": "code",
   "execution_count": null,
   "metadata": {},
   "outputs": [],
   "source": [
    "X= data.iloc[:, [0,1,2]].values  \n",
    "Y= data[\"Purchased\"].values"
   ]
  },
  {
   "cell_type": "code",
   "execution_count": null,
   "metadata": {},
   "outputs": [],
   "source": [
    "sc=StandardScaler()\n",
    "X=sc.fit_transform(X)"
   ]
  },
  {
   "cell_type": "code",
   "execution_count": null,
   "metadata": {},
   "outputs": [],
   "source": [
    "# Splitting dataset into train and test \n",
    "X_train, X_test, Y_train, Y_test = train_test_split(X, Y, test_size = 0.30, random_state = 0 ) \n"
   ]
  },
  {
   "cell_type": "code",
   "execution_count": null,
   "metadata": {},
   "outputs": [],
   "source": [
    "from scipy.stats import mode\n",
    "class K_Nearest_Neighbors_Classifier() :  \n",
    "      \n",
    "    def __init__( self, K ) : \n",
    "          \n",
    "        self.K = K \n",
    "          \n",
    "    # Function to store training set \n",
    "          \n",
    "    def fit( self, X_train, Y_train ) : \n",
    "          \n",
    "        self.X_train = X_train \n",
    "          \n",
    "        self.Y_train = Y_train \n",
    "          \n",
    "        # no_of_training_examples, no_of_features \n",
    "          \n",
    "        self.m, self.n = X_train.shape \n",
    "      \n",
    "    # Function for prediction \n",
    "          \n",
    "    def predict( self, X_test ) : \n",
    "          \n",
    "        self.X_test = X_test \n",
    "          \n",
    "        # no_of_test_examples, no_of_features \n",
    "          \n",
    "        self.m_test, self.n = X_test.shape \n",
    "          \n",
    "        # initialize Y_predict \n",
    "          \n",
    "        Y_predict = np.zeros( self.m_test ) \n",
    "          \n",
    "        for i in range( self.m_test ) : \n",
    "              \n",
    "            x = self.X_test[i] \n",
    "              \n",
    "            # find the K nearest neighbors from current test example \n",
    "              \n",
    "            neighbors = np.zeros( self.K ) \n",
    "              \n",
    "            neighbors = self.find_neighbors( x ) \n",
    "              \n",
    "            # most frequent class in K neighbors \n",
    "              \n",
    "            Y_predict[i] =mode( neighbors )[0][0]     \n",
    "              \n",
    "        return Y_predict \n",
    "      \n",
    "    # Function to find the K nearest neighbors to current test example \n",
    "            \n",
    "    def find_neighbors( self, x ) : \n",
    "          \n",
    "        # calculate all the euclidean distances between current  \n",
    "        # test example x and training set X_train \n",
    "          \n",
    "        euclidean_distances = np.zeros( self.m ) \n",
    "          \n",
    "        for i in range( self.m ) : \n",
    "              \n",
    "            d = self.euclidean( x, self.X_train[i] ) \n",
    "              \n",
    "            euclidean_distances[i] = d \n",
    "          \n",
    "        # sort Y_train according to euclidean_distance_array and  \n",
    "        # store into Y_train_sorted \n",
    "          \n",
    "        inds = euclidean_distances.argsort() \n",
    "          \n",
    "        Y_train_sorted = self.Y_train[inds] \n",
    "          \n",
    "        return Y_train_sorted[:self.K] \n",
    "      \n",
    "    # Function to calculate euclidean distance \n",
    "              \n",
    "    def euclidean( self, x, x_train ) : \n",
    "          \n",
    "        return np.sqrt( np.sum( np.square( x - x_train ) ) ) \n",
    "  \n",
    "# Driver code \n",
    "  \n"
   ]
  },
  {
   "cell_type": "code",
   "execution_count": null,
   "metadata": {},
   "outputs": [],
   "source": [
    "\n",
    "    # Importing dataset \n",
    "    # Model training \n",
    "model_knn = K_Nearest_Neighbors_Classifier( K = 3 )       \n",
    "model_knn.fit( X_train, Y_train ) \n",
    "#model1 = KNeighborsClassifier( n_neighbors = 3 ) \n",
    "#model1.fit( X_train, Y_train ) \n",
    "      \n"
   ]
  },
  {
   "cell_type": "code",
   "execution_count": null,
   "metadata": {},
   "outputs": [],
   "source": [
    "    # Prediction on test set \n",
    "Y_pred_knn = model_knn.predict( X_test ) \n"
   ]
  },
  {
   "cell_type": "code",
   "execution_count": null,
   "metadata": {},
   "outputs": [],
   "source": [
    "\n",
    "#Y_pred1 = model1.predict( X_test ) \n",
    "      \n",
    "    # measure performance \n",
    "      \n",
    "correctly_classified = 0\n",
    "correctly_classified1 = 0\n",
    "      \n",
    "    # counter \n",
    "count = 0\n",
    "for count in range(np.size(Y_pred_knn)):\n",
    "    if Y_test[count] == Y_pred_knn[count] :\n",
    "        correctly_classified = correctly_classified + 1\n",
    "    count = count + 1\n",
    "print( \"Accuracy on test set by our model       :  \", (correctly_classified / count ) * 100 ) \n",
    "#print( \"Accuracy on test set by sklearn model   :  \", (correctly_classified1 / count ) * 100 ) \n",
    "      "
   ]
  },
  {
   "cell_type": "code",
   "execution_count": 163,
   "metadata": {},
   "outputs": [],
   "source": [
    "from sklearn.neighbors import KNeighborsClassifier"
   ]
  },
  {
   "cell_type": "code",
   "execution_count": 166,
   "metadata": {},
   "outputs": [],
   "source": [
    "knn1=K_Nearest_Neighbors_Classifier(3)"
   ]
  },
  {
   "cell_type": "code",
   "execution_count": 167,
   "metadata": {},
   "outputs": [],
   "source": [
    "knn1.fit( X_train, Y_train ) "
   ]
  },
  {
   "cell_type": "code",
   "execution_count": 168,
   "metadata": {},
   "outputs": [],
   "source": [
    " y1p=knn1.predict(X_test)\n"
   ]
  },
  {
   "cell_type": "code",
   "execution_count": 170,
   "metadata": {},
   "outputs": [
    {
     "name": "stdout",
     "output_type": "stream",
     "text": [
      "Accuracy: 0.925\n"
     ]
    }
   ],
   "source": [
    "from sklearn import metrics\n",
    "# Model Accuracy, how often is the classifier correct?\n",
    "print(\"Accuracy:\",metrics.accuracy_score(Y_test, y1p))"
   ]
  },
  {
   "cell_type": "code",
   "execution_count": null,
   "metadata": {},
   "outputs": [],
   "source": []
  }
 ],
 "metadata": {
  "kernelspec": {
   "display_name": "Python 3",
   "language": "python",
   "name": "python3"
  },
  "language_info": {
   "codemirror_mode": {
    "name": "ipython",
    "version": 3
   },
   "file_extension": ".py",
   "mimetype": "text/x-python",
   "name": "python",
   "nbconvert_exporter": "python",
   "pygments_lexer": "ipython3",
   "version": "3.7.7"
  }
 },
 "nbformat": 4,
 "nbformat_minor": 4
}
